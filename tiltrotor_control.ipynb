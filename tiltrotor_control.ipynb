{
 "cells": [
  {
   "cell_type": "code",
   "execution_count": null,
   "id": "621c570b",
   "metadata": {},
   "outputs": [],
   "source": [
    "import Pkg\n",
    "Pkg.activate(@__DIR__)\n",
    "Pkg.instantiate()\n",
    "\n",
    "Pkg.add(\"MeshCat\")\n",
    "Pkg.add(\"GeometryBasics\")\n",
    "Pkg.add(\"CoordinateTransformations\")\n",
    "Pkg.add(\"DifferentiableCollisions\")\n",
    "Pkg.add(\"StaticArrays\")\n",
    "Pkg.add(\"MeshCatMechanisms\")\n",
    "Pkg.add(\"RigidBodyDynamics\")\n",
    "Pkg.add(\"LinearAlgebra\")\n",
    "Pkg.add(\"Rotations\")\n",
    "using Rotations\n",
    "using LinearAlgebra\n",
    "using RigidBodyDynamics\n",
    "using MeshCat\n",
    "using GeometryBasics\n",
    "using CoordinateTransformations\n",
    "using StaticArrays\n",
    "using MeshCatMechanisms"
   ]
  },
  {
   "cell_type": "code",
   "execution_count": null,
   "id": "3a570d49",
   "metadata": {},
   "outputs": [],
   "source": [
    "function animate_tiltrotor(X, dt)\n",
    "    vis = Visualizer()\n",
    "    urdf = joinpath(@__DIR__,\"urdf/tiltrotor.urdf\")\n",
    "    robot = parse_urdf(urdf)\n",
    "    remove_fixed_tree_joints!(robot)\n",
    "\n",
    "    mvis = MechanismVisualizer(robot, URDFVisuals(urdf), vis)\n",
    "    settransform!(vis, Translation(0., 0, 3))\n",
    "    set_configuration!(mvis, [1.5, -1.5])\n",
    "    anim = Animation(floor(Int,1/dt))\n",
    "    for k = 1:length(X)\n",
    "        atframe(anim, k) do\n",
    "            settransform!(vis, Translation(0., 0, X[k]+1.5) ∘ LinearMap(RotZ(X[k])))  \n",
    "            set_configuration!(mvis, [X[k], X[k]])\n",
    "        end\n",
    "    end\n",
    "    setanimation!(vis, anim)\n",
    "    return render(vis)\n",
    "end\n",
    "display(animate_tiltrotor(1.5:-0.1:0.7, 0.1))"
   ]
  },
  {
   "attachments": {},
   "cell_type": "markdown",
   "id": "60c96996",
   "metadata": {},
   "source": [
    "## Dynamics"
   ]
  },
  {
   "attachments": {},
   "cell_type": "markdown",
   "id": "3001fc24",
   "metadata": {},
   "source": [
    "Type out dynamics here"
   ]
  },
  {
   "cell_type": "code",
   "execution_count": null,
   "id": "37fc2660",
   "metadata": {},
   "outputs": [],
   "source": [
    "#Quaternion stuff\n",
    "function hat(v)\n",
    "    return [0 -v[3] v[2];\n",
    "            v[3] 0 -v[1];\n",
    "            -v[2] v[1] 0]\n",
    "end\n",
    "\n",
    "function L(q)\n",
    "    s = q[1]\n",
    "    v = q[2:4]\n",
    "    L = [s    -v';\n",
    "         v  s*I+hat(v)]\n",
    "    return L\n",
    "end\n",
    "\n",
    "T = Diagonal([1; -ones(3)])\n",
    "H = [zeros(1,3); I]\n",
    "\n",
    "function qtoQ(q)\n",
    "    return H'*T*L(q)*T*L(q)*H\n",
    "end\n",
    "\n",
    "function G(q)\n",
    "    G = L(q)*H\n",
    "end\n",
    "\n",
    "function rptoq(ϕ)\n",
    "    (1/sqrt(1+ϕ'*ϕ))*[1; ϕ]\n",
    "end\n",
    "\n",
    "function qtorp(q)\n",
    "    q[2:4]/q[1]\n",
    "end"
   ]
  },
  {
   "cell_type": "code",
   "execution_count": null,
   "id": "0b6ceb55",
   "metadata": {},
   "outputs": [],
   "source": [
    "# Coefficient of lift and drag for the wing (DAE 51 airfoil)\n",
    "\n",
    "function C_l(α)\n",
    "    return -7e-6*α^3 - 0.0013*α^2 + 0.0563*α + 0.4683\n",
    "end\n",
    "\n",
    "function C_d(α)\n",
    "    return -4e-6*α^3 - 0.0005*α^2 + 0.0008*α + 0.0269\n",
    "end"
   ]
  },
  {
   "cell_type": "code",
   "execution_count": null,
   "id": "462a1579",
   "metadata": {},
   "outputs": [],
   "source": [
    "function tiltrotor_dynamics(model::NamedTuple,x,u)\n",
    "    r = x[1:3]\n",
    "    q = x[4:7]/norm(x[4:7]) #normalize q just to be careful\n",
    "    v = x[8:10]\n",
    "    ω = x[11:13]\n",
    "    δ_l = x[14]\n",
    "    δ_r = x[15]\n",
    "\n",
    "    Q = qtoQ(q)\n",
    "\n",
    "    m = model.m\n",
    "    g = model.g\n",
    "    J = model.J\n",
    "    \n",
    "    ṙ = Q*v\n",
    "    q̇ = 0.5*L(q)*H*ω\n",
    "\n",
    "    # Propeller forces\n",
    "    F_l = model.k_F*u[1]^2\n",
    "    F_r = model.k_F*u[2]^2\n",
    "\n",
    "    # Force due to gravity\n",
    "    F_g = [0; 0; -m*g]\n",
    "    \n",
    "    # Force due to propellers\n",
    "    F_thrusters = [F_r*sin(δ_r) + F_l*sin(δ_l); 0; F_r*cos(δ_r) + F_l*cos(δ_l)]\n",
    "    \n",
    "    # Force due to wings\n",
    "    α = -atan2(v[3], v[1])\n",
    "    q = 0.5*model.ρ*(v[1]^2 + v[3]^2)\n",
    "    L_wing = q*model.S_wing*C_l(α) #Lift force\n",
    "    D_wing = q*model.S_wing*C_d(α) #Drag force\n",
    "\n",
    "    # Total external force acting in the body frame\n",
    "    F_ext = Q'*(F_g + L_wing + D_wing) + F_thrusters\n",
    "    \n",
    "    # Acceleration in the body frame\n",
    "    v̇ = (1/m)*F_ext - hat(ω)*v\n",
    "    \n",
    "    # Total external torque acting in the body frame\n",
    "    τ_ext = model.moment_matrix*[F_r*sin(δ_r) + F_l*sin(δ_l); 0; F_r*cos(δ_r) + F_l*cos(δ_l)] + model.I_rotor\n",
    "    ̇ω = J\\(-hat(ω)*J*ω + τ_ext)\n",
    "\n",
    "    # Propeller angle rate\n",
    "    ̇δ_l = u[3]\n",
    "    ̇δ_r = u[4]\n",
    "    \n",
    "    return [ṙ; q̇; v̇; ̇ω; ̇δ_l; ̇δ_r]\n",
    "end"
   ]
  },
  {
   "attachments": {},
   "cell_type": "markdown",
   "id": "bc83bebe",
   "metadata": {},
   "source": [
    "## State Vector\n",
    "\n",
    "X = [r, q, v, ω, δ_l, δ_l]\n",
    "\n",
    "- r -> position in world frame\n",
    "- v -> velocity in world frame\n",
    "- q -> quaternion rotation\n",
    "- ω -> angular velocity\n",
    "- δ_l -> tilt of left rotor\n",
    "- δ_r -> tilt of right rotor\n",
    "\n",
    "## Control Vector\n",
    "\n",
    "U = [ω_l, ω_r, δ_l_dot, δ_r_dot]\n",
    "\n",
    "- ω_l -> speed (rad/s) of left rotor\n",
    "- ω_r -> speed (rad/s) of right rotor \n",
    "- δ_l_dot -> rate of change of left rotor tilt\n",
    "- δ_r_dot -> rate of change of right rotor tilt"
   ]
  },
  {
   "attachments": {},
   "cell_type": "markdown",
   "id": "3a041ef2",
   "metadata": {},
   "source": [
    "## Integration"
   ]
  },
  {
   "cell_type": "code",
   "execution_count": null,
   "id": "a648b8c9",
   "metadata": {},
   "outputs": [],
   "source": [
    "function discrete_dynamics(params::NamedTuple, x::Vector, u, k)\n",
    "    # discrete dynamics\n",
    "    # x - state \n",
    "    # u - control \n",
    "    # k - index of trajectory \n",
    "    # dt comes from params.model.dt \n",
    "    return rk4(params.model, tiltrotor_dynamics, x, u, params.model.dt)\n",
    "end"
   ]
  },
  {
   "attachments": {},
   "cell_type": "markdown",
   "id": "3eff8171",
   "metadata": {},
   "source": [
    "## Cost"
   ]
  },
  {
   "attachments": {},
   "cell_type": "markdown",
   "id": "56d9704f",
   "metadata": {},
   "source": [
    "DIRCOL or iLQR?"
   ]
  },
  {
   "cell_type": "code",
   "execution_count": null,
   "id": "b8659241",
   "metadata": {},
   "outputs": [],
   "source": []
  },
  {
   "attachments": {},
   "cell_type": "markdown",
   "id": "164470cf",
   "metadata": {},
   "source": [
    "## Trajectory Optimization"
   ]
  },
  {
   "attachments": {},
   "cell_type": "markdown",
   "id": "374f7e5e",
   "metadata": {},
   "source": []
  },
  {
   "cell_type": "code",
   "execution_count": null,
   "id": "d532129e",
   "metadata": {},
   "outputs": [],
   "source": [
    "# # dynamics parameters (taken from HW3)\n",
    "# model = (mass=0.5,\n",
    "#         J=Diagonal([0.0023, 0.0023, 0.004]),\n",
    "#         gravity=[0,0,-9.81],\n",
    "#         L=0.1750,\n",
    "#         kf=1.0,\n",
    "#         km=0.0245,dt = dt)\n",
    "\n",
    "# dynamics parameters (taken from HW3)\n",
    "\n",
    "model = (mass=1.8,\n",
    "        J=Diagonal([0.1365, 0.04401, 0.1802]),\n",
    "        g=9.81,\n",
    "        k_F=5.15e-5,\n",
    "        k_δ=0.5,\n",
    "        ρ=1.225,\n",
    "        S_wing=0.325,\n",
    "        moment_matrix=[0 0 0.5;\n",
    "                       0 0 -0.1;\n",
    "                       -0.5 0.1 0],\n",
    "        dt = dt)"
   ]
  },
  {
   "attachments": {},
   "cell_type": "markdown",
   "id": "62c9979e",
   "metadata": {},
   "source": [
    "## Tracking with TVLQR"
   ]
  },
  {
   "attachments": {},
   "cell_type": "markdown",
   "id": "4a01ae1f",
   "metadata": {},
   "source": []
  },
  {
   "cell_type": "code",
   "execution_count": null,
   "id": "9721a122",
   "metadata": {},
   "outputs": [],
   "source": []
  },
  {
   "attachments": {},
   "cell_type": "markdown",
   "id": "aef7b540",
   "metadata": {},
   "source": [
    "## Visualize"
   ]
  },
  {
   "cell_type": "code",
   "execution_count": null,
   "id": "ab32fc16",
   "metadata": {},
   "outputs": [],
   "source": []
  }
 ],
 "metadata": {
  "kernelspec": {
   "display_name": "Julia 1.6.7",
   "language": "julia",
   "name": "julia-1.6"
  },
  "language_info": {
   "file_extension": ".jl",
   "mimetype": "application/julia",
   "name": "julia",
   "version": "1.6.7"
  }
 },
 "nbformat": 4,
 "nbformat_minor": 5
}
