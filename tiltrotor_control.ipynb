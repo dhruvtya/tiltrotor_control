{
 "cells": [
  {
   "cell_type": "code",
   "execution_count": null,
   "id": "621c570b",
   "metadata": {},
   "outputs": [],
   "source": [
    "import Pkg\n",
    "Pkg.activate(@__DIR__)\n",
    "Pkg.instantiate()\n",
    "\n",
    "Pkg.add(\"MeshCat\")\n",
    "Pkg.add(\"GeometryBasics\")\n",
    "Pkg.add(\"CoordinateTransformations\")\n",
    "Pkg.add(\"DifferentiableCollisions\")\n",
    "Pkg.add(\"StaticArrays\")\n",
    "Pkg.add(\"MeshCatMechanisms\")\n",
    "Pkg.add(\"RigidBodyDynamics\")\n",
    "Pkg.add(\"LinearAlgebra\")\n",
    "Pkg.add(\"Rotations\")\n",
    "using Rotations\n",
    "using LinearAlgebra\n",
    "using RigidBodyDynamics\n",
    "using MeshCat\n",
    "using GeometryBasics\n",
    "using CoordinateTransformations\n",
    "using StaticArrays\n",
    "using MeshCatMechanisms"
   ]
  },
  {
   "cell_type": "code",
   "execution_count": null,
   "id": "3a570d49",
   "metadata": {},
   "outputs": [],
   "source": [
    "function animate_tiltrotor(X, dt)\n",
    "    vis = Visualizer()\n",
    "    urdf = joinpath(@__DIR__,\"urdf/tiltrotor.urdf\")\n",
    "    robot = parse_urdf(urdf)\n",
    "    remove_fixed_tree_joints!(robot)\n",
    "\n",
    "    mvis = MechanismVisualizer(robot, URDFVisuals(urdf), vis)\n",
    "    settransform!(vis, Translation(0., 0, 3))\n",
    "    set_configuration!(mvis, [1.5, -1.5])\n",
    "    anim = Animation(floor(Int,1/dt))\n",
    "    for k = 1:length(X)\n",
    "        atframe(anim, k) do\n",
    "            settransform!(vis, Translation(0., 0, X[k]+1.5) ∘ LinearMap(RotZ(X[k])))  \n",
    "            set_configuration!(mvis, [X[k], X[k]])\n",
    "        end\n",
    "    end\n",
    "    setanimation!(vis, anim)\n",
    "    return render(vis)\n",
    "end\n",
    "display(animate_tiltrotor(1.5:-0.1:0.7, 0.1))"
   ]
  },
  {
   "cell_type": "code",
   "execution_count": null,
   "id": "0db641dd",
   "metadata": {},
   "outputs": [],
   "source": []
  },
  {
   "attachments": {},
   "cell_type": "markdown",
   "id": "60c96996",
   "metadata": {},
   "source": [
    "## Dynamics"
   ]
  },
  {
   "attachments": {},
   "cell_type": "markdown",
   "id": "3001fc24",
   "metadata": {},
   "source": [
    "Type out dynamics here"
   ]
  },
  {
   "cell_type": "code",
   "execution_count": null,
   "id": "462a1579",
   "metadata": {},
   "outputs": [],
   "source": [
    "function tiltrotor_dynamics(model::NamedTuple,x,u)\n",
    "    # Put dynamics here\n",
    "end"
   ]
  },
  {
   "attachments": {},
   "cell_type": "markdown",
   "id": "bc83bebe",
   "metadata": {},
   "source": [
    "## State Vector\n",
    "\n",
    "X = [r, v, q, ω, λ_l, λ_r]\n",
    "\n",
    "- r -> position in world frame\n",
    "- v -> velocity in world frame\n",
    "- q -> quaternion rotation\n",
    "- ω -> angular velocity\n",
    "- λ_l -> tilt of left rotor\n",
    "- λ_r -> tilt of right rotor\n",
    "\n",
    "## Control Vector\n",
    "\n",
    "U = [ω_l, ω_r, λ_l_dot, λ_r_dot]\n",
    "\n",
    "- ω_l -> rpm of left rotor\n",
    "- ω_r -> rpm of right rotor \n",
    "- λ_l_dot -> rate of change of left rotor tilt\n",
    "- λ_r_dot -> rate of change of right rotor tilt"
   ]
  },
  {
   "attachments": {},
   "cell_type": "markdown",
   "id": "3a041ef2",
   "metadata": {},
   "source": [
    "## Integration"
   ]
  },
  {
   "cell_type": "code",
   "execution_count": null,
   "id": "a648b8c9",
   "metadata": {},
   "outputs": [],
   "source": [
    "function discrete_dynamics(params::NamedTuple, x::Vector, u, k)\n",
    "    # discrete dynamics\n",
    "    # x - state \n",
    "    # u - control \n",
    "    # k - index of trajectory \n",
    "    # dt comes from params.model.dt \n",
    "    return rk4(params.model, tiltrotor_dynamics, x, u, params.model.dt)\n",
    "end"
   ]
  },
  {
   "attachments": {},
   "cell_type": "markdown",
   "id": "3eff8171",
   "metadata": {},
   "source": [
    "## Cost"
   ]
  },
  {
   "attachments": {},
   "cell_type": "markdown",
   "id": "56d9704f",
   "metadata": {},
   "source": [
    "DIRCOL or iLQR?"
   ]
  },
  {
   "cell_type": "code",
   "execution_count": null,
   "id": "b8659241",
   "metadata": {},
   "outputs": [],
   "source": []
  },
  {
   "attachments": {},
   "cell_type": "markdown",
   "id": "164470cf",
   "metadata": {},
   "source": [
    "## Trajectory Optimization"
   ]
  },
  {
   "attachments": {},
   "cell_type": "markdown",
   "id": "374f7e5e",
   "metadata": {},
   "source": []
  },
  {
   "cell_type": "code",
   "execution_count": null,
   "id": "d532129e",
   "metadata": {},
   "outputs": [],
   "source": [
    "# dynamics parameters (taken from HW3)\n",
    "model = (mass=0.5,\n",
    "        J=Diagonal([0.0023, 0.0023, 0.004]),\n",
    "        gravity=[0,0,-9.81],\n",
    "        L=0.1750,\n",
    "        kf=1.0,\n",
    "        km=0.0245,dt = dt)"
   ]
  },
  {
   "attachments": {},
   "cell_type": "markdown",
   "id": "62c9979e",
   "metadata": {},
   "source": [
    "## Tracking with TVLQR"
   ]
  },
  {
   "attachments": {},
   "cell_type": "markdown",
   "id": "4a01ae1f",
   "metadata": {},
   "source": []
  },
  {
   "cell_type": "code",
   "execution_count": null,
   "id": "9721a122",
   "metadata": {},
   "outputs": [],
   "source": []
  },
  {
   "attachments": {},
   "cell_type": "markdown",
   "id": "aef7b540",
   "metadata": {},
   "source": [
    "## Visualize"
   ]
  },
  {
   "cell_type": "code",
   "execution_count": null,
   "id": "ab32fc16",
   "metadata": {},
   "outputs": [],
   "source": []
  }
 ],
 "metadata": {
  "kernelspec": {
   "display_name": "Julia 1.6.7",
   "language": "julia",
   "name": "julia-1.6"
  },
  "language_info": {
   "file_extension": ".jl",
   "mimetype": "application/julia",
   "name": "julia",
   "version": "1.6.7"
  }
 },
 "nbformat": 4,
 "nbformat_minor": 5
}
